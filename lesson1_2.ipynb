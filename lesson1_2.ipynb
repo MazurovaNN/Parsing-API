{
  "nbformat": 4,
  "nbformat_minor": 0,
  "metadata": {
    "colab": {
      "provenance": [],
      "authorship_tag": "ABX9TyOQC271PKRadwVNsgPZ0/Jq",
      "include_colab_link": true
    },
    "kernelspec": {
      "name": "python3",
      "display_name": "Python 3"
    },
    "language_info": {
      "name": "python"
    }
  },
  "cells": [
    {
      "cell_type": "markdown",
      "metadata": {
        "id": "view-in-github",
        "colab_type": "text"
      },
      "source": [
        "<a href=\"https://colab.research.google.com/github/MazurovaNN/Parsing-API/blob/main/lesson1_2.ipynb\" target=\"_parent\"><img src=\"https://colab.research.google.com/assets/colab-badge.svg\" alt=\"Open In Colab\"/></a>"
      ]
    },
    {
      "cell_type": "code",
      "execution_count": 1,
      "metadata": {
        "id": "dldF7L0wfj9V"
      },
      "outputs": [],
      "source": [
        "import requests\n",
        "import json\n"
      ]
    },
    {
      "cell_type": "markdown",
      "source": [
        "# Импорт необходимых библиотек\n",
        "\n",
        "# Определение конечной точки API\n"
      ],
      "metadata": {
        "id": "_epc1L7zhWCu"
      }
    },
    {
      "cell_type": "code",
      "source": [
        "url = \"http://openlibrary.org/search.json\"\n"
      ],
      "metadata": {
        "id": "Vpyeb7sngTlp"
      },
      "execution_count": 2,
      "outputs": []
    },
    {
      "cell_type": "markdown",
      "source": [
        "# Определение темы поиска и параметров для запроса API\n"
      ],
      "metadata": {
        "id": "o839F0k9hf9F"
      }
    },
    {
      "cell_type": "code",
      "source": [
        "subject = 'Artificial intelligence'\n",
        "params = {\n",
        "    \"subject\": subject,\n",
        "    \"limit\": 2\n",
        "}"
      ],
      "metadata": {
        "id": "mKvSi1QDgXxi"
      },
      "execution_count": 3,
      "outputs": []
    },
    {
      "cell_type": "markdown",
      "source": [
        "# Отправка запроса API с помощью метода requests.get\n"
      ],
      "metadata": {
        "id": "hJKU6byhhmfS"
      }
    },
    {
      "cell_type": "code",
      "source": [
        "response = requests.get(url, params=params)\n"
      ],
      "metadata": {
        "id": "VprIXQtKggxO"
      },
      "execution_count": 4,
      "outputs": []
    },
    {
      "cell_type": "markdown",
      "source": [
        "# Проверка кода состояния ответа для подтверждения успешности запроса API\n"
      ],
      "metadata": {
        "id": "YlcA5xXphsoj"
      }
    },
    {
      "cell_type": "code",
      "source": [
        "if response.status_code == 200:\n",
        "    print(\"Успешный запрос API!\")\n",
        "else:\n",
        "    print(\"Запрос API отклонен с кодом состояния:\", response.status_code)\n",
        "\n",
        "# Загрузка данных ответа в виде объекта JSON"
      ],
      "metadata": {
        "id": "oUj8hkAKg2XF",
        "outputId": "2964f08f-a680-4599-a897-8f9d441f441f",
        "colab": {
          "base_uri": "https://localhost:8080/"
        }
      },
      "execution_count": 5,
      "outputs": [
        {
          "output_type": "stream",
          "name": "stdout",
          "text": [
            "Успешный запрос API!\n"
          ]
        }
      ]
    },
    {
      "cell_type": "code",
      "source": [
        "data = json.loads(response.text)\n",
        "\n",
        "# Доступ к списку книг из данных ответа"
      ],
      "metadata": {
        "id": "yBb5BWDxg-aW"
      },
      "execution_count": 6,
      "outputs": []
    },
    {
      "cell_type": "code",
      "source": [
        "books = data[\"docs\"]\n",
        "\n",
        "# Извлечение названия книги, автора и темы."
      ],
      "metadata": {
        "id": "lngiIMhthGPK"
      },
      "execution_count": 7,
      "outputs": []
    },
    {
      "cell_type": "code",
      "source": [
        "for book in books:\n",
        "    print(\"Title:\", book[\"title\"])\n",
        "    print(\"Author:\", book[\"author_name\"])\n",
        "    print(\"Subject:\", book[\"subject\"])\n",
        "    print(\"\\n\")"
      ],
      "metadata": {
        "id": "CdE4e-d5hGSR",
        "outputId": "31d83076-efd2-4903-b3dd-d06b78b81846",
        "colab": {
          "base_uri": "https://localhost:8080/"
        }
      },
      "execution_count": 8,
      "outputs": [
        {
          "output_type": "stream",
          "name": "stdout",
          "text": [
            "Title: Ender's Game\n",
            "Author: ['Orson Scott Card']\n",
            "Subject: ['New York Times bestseller', 'nyt:mass_market_paperback=2011-07-30', 'military education', 'end of the world', 'prize:nebula', 'hegemony', 'space warfare', 'child soldiers', 'The Ender Quintet', 'science fiction', 'automation', 'data processing', 'aliens', 'Military art and science', 'Hermanos', 'Maniobras de guerra', 'Brothers and sisters', 'Open Library Staff Picks', 'Genetic engineering', 'Fiction', 'Hugo Award Winner', 'award:hugo_award=novel', 'Ficción', 'Ciencia-ficción', 'award:hugo_award=1986', 'War games', 'Long Now Manual for Civilization', 'American Science fiction', \"Children's stories, American\", 'Artificial intelligence', 'Ender Wiggin (Fictitious character)', 'Reading Level-Grade 7', 'Reading Level-Grade 9', 'Reading Level-Grade 8', 'Reading Level-Grade 11', 'Reading Level-Grade 10', 'Reading Level-Grade 12', 'Wiggin, ender (fictitious character), fiction', 'Battle school (imaginary place), fiction', 'Fiction, science fiction, hard science fiction', 'Brothers and sisters, fiction', 'Science-Fiction-Literatur', 'Krieg', 'Amerikanisches Englisch', 'Außerirdische Intelligenz', 'award:nebula_award=novel', 'Peter Wiggin (Fictitious character)', 'Siblings, fiction']\n",
            "\n",
            "\n",
            "Title: I, Robot\n",
            "Author: ['Isaac Asimov']\n",
            "Subject: ['smear campaigns', 'supercomputers', 'computers', 'Frankenstein complex', 'hyperspace', 'heisenbugs', 'asteroids', 'Shahada', 'space stations', 'space-based solar power', 'cognitive dissonance', 'selenium', 'robots', 'morality', 'robotics', 'robopsychology', 'positronic brains', 'three laws of robotics', 'ethics of artificial intelligence', 'American Science fiction', 'Readers (Secondary)', 'Readers', 'Fiction', 'Science fiction', 'human-robot relations', 'Thriller', 'Long Now Manual for Civilization', 'Science fiction, American', 'Short stories', 'American Short stories', 'Artificial intelligence', 'Reading Level-Grade 11', 'Reading Level-Grade 10', 'Reading Level-Grade 12', 'Fiction, science fiction, short stories', 'Roman', 'Fiction, science fiction, collections & anthologies', 'American literature', 'Robots in fiction', \"Children's fiction\", 'High tech and hard science fiction', 'Teen fiction - science fiction', 'Books at the movies']\n",
            "\n",
            "\n"
          ]
        }
      ]
    }
  ]
}